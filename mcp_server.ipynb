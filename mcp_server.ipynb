{
 "cells": [
  {
   "cell_type": "markdown",
   "id": "b95ab312-b71c-4fdd-b871-5c3f0d210607",
   "metadata": {},
   "source": [
    "A lightweight HTTP server (can use FastAPI or Flask) exposing:\n",
    "- Endpoints\n",
    "- POST /add_message\n",
    "- GET /get_context\n",
    "- POST /summarize_history\n",
    "- POST /reset\n",
    "- GET /tool_call?query=...\n",
    "- Memory Management\n",
    "- Store conversation as a list of {role, content} dicts.\n",
    "- Summarize old messages using GPT or basic heuristic summarization.\n",
    "- Track total token count using tiktoken and trim/summarize when approaching limit.\n",
    "\n",
    "Tool Call\n",
    "- Simple Wikipedia API fetch via requests."
   ]
  },
  {
   "cell_type": "code",
   "execution_count": null,
   "id": "52800827-2845-4e8f-ba0f-043ff477e46d",
   "metadata": {},
   "outputs": [],
   "source": [
    "# Import necessary libraries\n",
    "from fastapi import FastAPI, Request\n",
    "from pydantic import BaseModel\n",
    "from typing import List, Dict\n",
    "import requests\n",
    "import tiktoken"
   ]
  },
  {
   "cell_type": "code",
   "execution_count": null,
   "id": "665db82c-4b6f-4e58-b533-5729842af7a9",
   "metadata": {},
   "outputs": [],
   "source": [
    "# Create a FastAPI app instance\n",
    "app = FastAPI()"
   ]
  },
  {
   "cell_type": "code",
   "execution_count": 2,
   "id": "f87b9621-5523-40a6-9ed5-2b12d388f61f",
   "metadata": {},
   "outputs": [
    {
     "ename": "NameError",
     "evalue": "name 'FastAPI' is not defined",
     "output_type": "error",
     "traceback": [
      "\u001b[0;31m---------------------------------------------------------------------------\u001b[0m",
      "\u001b[0;31mNameError\u001b[0m                                 Traceback (most recent call last)",
      "Cell \u001b[0;32mIn[2], line 2\u001b[0m\n\u001b[1;32m      1\u001b[0m \u001b[38;5;66;03m# Create a FastAPI app instance\u001b[39;00m\n\u001b[0;32m----> 2\u001b[0m app \u001b[38;5;241m=\u001b[39m FastAPI()\n\u001b[1;32m      4\u001b[0m \u001b[38;5;66;03m# Memory store:  \u001b[39;00m\n\u001b[1;32m      5\u001b[0m conversation_history: List[Dict] \u001b[38;5;241m=\u001b[39m []  \u001b[38;5;66;03m# In-memory store for conversation history\u001b[39;00m\n",
      "\u001b[0;31mNameError\u001b[0m: name 'FastAPI' is not defined"
     ]
    }
   ],
   "source": [
    "# Memory storage:  \n",
    "conversation_history: List[Dict] = []  # In-memory store for conversation history\n",
    "\n",
    "# limit tokens\n",
    "token_limit = 4000  # Define maximum token limit (around GPT-3.5-turbo's safe limit)\n",
    "\n",
    "# Initialize token encoder for the GPT model\n",
    "encoding = tiktoken.encoding_for_model(\"gpt-3.5-turbo\")\n",
    "\n",
    "## Models\n",
    "# Define a Message model for input validation using Pydantic\n",
    "class Message(BaseModel):\n",
    "    role: str     # 'user', 'assistant', or 'system'\n",
    "    content: str  # the actual text content\n",
    "\n",
    "# Endpoint to add a new message to conversation history\n",
    "@app.post(\"/add_message\")\n",
    "def add_message(msg: Message):\n",
    "    conversation_history.append(msg.dict())  # Store the message as a dictionary\n",
    "    return {\"status\": \"added\"}                # Return a simple success response\n",
    "\n",
    "# Endpoint to get the recent context within token limit\n",
    "@app.get(\"/get_context\")\n",
    "def get_context():\n",
    "    token_count = 0          # Counter to track number of tokens used\n",
    "    recent_context = []      # Store recent messages that fit within the limit\n",
    "\n",
    "    # Traverse conversation history in reverse (from newest to oldest)\n",
    "    for message in reversed(conversation_history):\n",
    "        tokens = len(encoding.encode(message[\"content\"]))  # Count tokens in each message\n",
    "        if token_count + tokens > token_limit:             # Check if adding this exceeds limit\n",
    "            break\n",
    "        recent_context.insert(0, message)  # Insert at beginning to maintain chronological order\n",
    "        token_count += tokens\n",
    "\n",
    "    return {\"context\": recent_context}  # Return recent messages fitting in token limit\n",
    "\n",
    "# Endpoint to summarize the conversation history\n",
    "@app.post(\"/summarize_history\")\n",
    "def summarize_history():\n",
    "    # Only summarize if enough history is available\n",
    "    if len(conversation_history) <= 5:\n",
    "        return {\"summary\": \"Not enough history to summarize.\"}\n",
    "\n",
    "    # Basic heuristic summary (joining old messages)\n",
    "    summary = \"Summary of past events: \" + \" \".join([m[\"content\"] for m in conversation_history[:-5]])\n",
    "\n",
    "    # Clear the history and insert the summary\n",
    "    conversation_history.clear()\n",
    "    conversation_history.append({\"role\": \"system\", \"content\": summary})\n",
    "\n",
    "    return {\"summary\": summary}\n",
    "\n",
    "# Endpoint to reset (clear) the conversation history\n",
    "@app.post(\"/reset\")\n",
    "def reset():\n",
    "    conversation_history.clear()  # Simply clear the list\n",
    "    return {\"status\": \"cleared\"}\n",
    "\n",
    "# Endpoint to call an external tool (Wikipedia search)\n",
    "@app.get(\"/tool_call\")\n",
    "def tool_call(query: str):\n",
    "    # Prepare Wikipedia API URL\n",
    "    url = f\"https://en.wikipedia.org/api/rest_v1/page/summary/{query.replace(' ', '_')}\"\n",
    "    \n",
    "    # Make a GET request to fetch the summary\n",
    "    response = requests.get(url)\n",
    "\n",
    "    if response.status_code == 200:\n",
    "        data = response.json()\n",
    "        return {\"result\": data.get(\"extract\", \"No summary available.\")}  # Return the extract text\n",
    "    return {\"result\": \"Failed to fetch from Wikipedia.\"}  # Error handling if fetch fails\n"
   ]
  },
  {
   "cell_type": "code",
   "execution_count": null,
   "id": "fba34015-c0c0-4e49-86e1-c0c13e40c51a",
   "metadata": {},
   "outputs": [],
   "source": []
  }
 ],
 "metadata": {
  "kernelspec": {
   "display_name": "Python 3 (ipykernel)",
   "language": "python",
   "name": "python3"
  },
  "language_info": {
   "codemirror_mode": {
    "name": "ipython",
    "version": 3
   },
   "file_extension": ".py",
   "mimetype": "text/x-python",
   "name": "python",
   "nbconvert_exporter": "python",
   "pygments_lexer": "ipython3",
   "version": "3.12.4"
  }
 },
 "nbformat": 4,
 "nbformat_minor": 5
}
